{
  "nbformat": 4,
  "nbformat_minor": 0,
  "metadata": {
    "colab": {
      "provenance": []
    },
    "kernelspec": {
      "name": "python3",
      "display_name": "Python 3"
    },
    "language_info": {
      "name": "python"
    }
  },
  "cells": [
    {
      "cell_type": "code",
      "execution_count": null,
      "metadata": {
        "colab": {
          "base_uri": "https://localhost:8080/"
        },
        "id": "3KTswVJldKi2",
        "outputId": "b1f09bec-86fd-45b7-fddf-8f4d512938af"
      },
      "outputs": [
        {
          "output_type": "stream",
          "name": "stdout",
          "text": [
            "0\n",
            "1\n",
            "2\n",
            "3\n",
            "4\n",
            "5\n"
          ]
        }
      ],
      "source": [
        "i = 0\n",
        "while i<11:\n",
        "  print(i)\n",
        "  i+=1\n",
        "  if i == 6:\n",
        "\n",
        "    i+=1\n",
        "    break"
      ]
    },
    {
      "cell_type": "code",
      "source": [
        "num = 123\n",
        "p = 0\n",
        "temp=num\n",
        "while temp>0:\n",
        "  p=p*10+(temp%10)\n",
        "  temp=temp//10\n",
        "\n",
        "if p==num:\n",
        "  print(\"palindrome\")\n",
        "else:\n",
        "  print(\"not palindrome\")"
      ],
      "metadata": {
        "colab": {
          "base_uri": "https://localhost:8080/"
        },
        "id": "rt93S0cce9Wt",
        "outputId": "e31a6dc4-c545-4f2b-bfb1-40ff7e9ffeda"
      },
      "execution_count": null,
      "outputs": [
        {
          "output_type": "stream",
          "name": "stdout",
          "text": [
            "not palindrome\n"
          ]
        }
      ]
    },
    {
      "cell_type": "code",
      "source": [
        "num = 370\n",
        "sum =0\n",
        "\n",
        "temp = num\n",
        "while temp > 0:\n",
        "  digit = temp % 10\n",
        "  sum += digit ** 3\n",
        "  temp //=10\n",
        "\n",
        "if num == sum:\n",
        "  print(num, \"is Amstrong number\")\n",
        "else:\n",
        "  print(num,\"is not Amstrong\")"
      ],
      "metadata": {
        "colab": {
          "base_uri": "https://localhost:8080/"
        },
        "id": "QEiQ5WRIiz4-",
        "outputId": "e2bd6c5f-597a-407a-d40f-f8f875718cf9"
      },
      "execution_count": null,
      "outputs": [
        {
          "output_type": "stream",
          "name": "stdout",
          "text": [
            "370 is Amstrong number\n"
          ]
        }
      ]
    },
    {
      "cell_type": "code",
      "source": [
        "n = 1634\n",
        "temp = n\n",
        "l=len(str(n))\n",
        "l\n",
        "r=0\n",
        "sum=0\n",
        "while n>0:\n",
        "  r=n%10\n",
        "  n=n//10\n",
        "  sum=sum+(r**1)\n",
        "if temp==sum:\n",
        "  print(\"Amstrong\")\n",
        "else:\n",
        "  print(\"not\")\n"
      ],
      "metadata": {
        "colab": {
          "base_uri": "https://localhost:8080/"
        },
        "id": "sc6C1Q3anpCL",
        "outputId": "21406ef9-3d3d-44c0-e8ba-20b4c0bf6f84"
      },
      "execution_count": null,
      "outputs": [
        {
          "output_type": "stream",
          "name": "stdout",
          "text": [
            "not\n"
          ]
        }
      ]
    },
    {
      "cell_type": "code",
      "source": [
        "total = 0\n",
        "\n",
        "\n",
        "for i in range(1,11):\n",
        "  total=total+i\n",
        "print(total)"
      ],
      "metadata": {
        "colab": {
          "base_uri": "https://localhost:8080/"
        },
        "id": "BD_Tyadlpsts",
        "outputId": "d40f15cd-a4f5-4c70-b2b1-7c6d7b3483db"
      },
      "execution_count": null,
      "outputs": [
        {
          "output_type": "stream",
          "name": "stdout",
          "text": [
            "55\n"
          ]
        }
      ]
    },
    {
      "cell_type": "code",
      "source": [
        "a = 30\n",
        "b = 10\n",
        "def mul():\n",
        "   return a*b\n",
        "mul()\n"
      ],
      "metadata": {
        "colab": {
          "base_uri": "https://localhost:8080/"
        },
        "id": "loDZUXy4tXki",
        "outputId": "cb9f39c5-a5d5-4c58-d8f8-a887112dd737"
      },
      "execution_count": null,
      "outputs": [
        {
          "output_type": "execute_result",
          "data": {
            "text/plain": [
              "300"
            ]
          },
          "metadata": {},
          "execution_count": 22
        }
      ]
    },
    {
      "cell_type": "code",
      "source": [
        "def sum(a,b):\n",
        "  print(a+b)\n",
        "sum(10,40)\n"
      ],
      "metadata": {
        "colab": {
          "base_uri": "https://localhost:8080/"
        },
        "id": "VEBj-dyMw3Ts",
        "outputId": "0958f4d4-4c4b-4f2d-c961-596798ccd529"
      },
      "execution_count": null,
      "outputs": [
        {
          "output_type": "stream",
          "name": "stdout",
          "text": [
            "50\n"
          ]
        }
      ]
    },
    {
      "cell_type": "code",
      "source": [
        "def age():\n",
        "  age = int(input(\"Enter the age:\"))\n",
        "  if age > 18:\n",
        "    print(\"eligible for vote\")\n",
        "  elif age == 18:\n",
        "    print(\"Not now\")\n",
        "  else:\n",
        "    print(\"Not eligible\")\n",
        "age()"
      ],
      "metadata": {
        "colab": {
          "base_uri": "https://localhost:8080/"
        },
        "id": "U4Dgno7JyYod",
        "outputId": "b67e2ed7-a4ef-437f-8789-ac30d3beae8c"
      },
      "execution_count": null,
      "outputs": [
        {
          "output_type": "stream",
          "name": "stdout",
          "text": [
            "Enter the age:18\n",
            "Not now\n"
          ]
        }
      ]
    },
    {
      "cell_type": "code",
      "source": [
        "def age(a,b):\n",
        "  if a>10 and b<10:\n",
        "    return 'eligible'\n",
        "  else:\n",
        "    return 'not'\n",
        "age(11,9)\n"
      ],
      "metadata": {
        "colab": {
          "base_uri": "https://localhost:8080/",
          "height": 35
        },
        "id": "VSIp1mP9y-3O",
        "outputId": "51895543-3669-4cf7-be5e-e5d21ed48981"
      },
      "execution_count": null,
      "outputs": [
        {
          "output_type": "execute_result",
          "data": {
            "text/plain": [
              "'eligible'"
            ],
            "application/vnd.google.colaboratory.intrinsic+json": {
              "type": "string"
            }
          },
          "metadata": {},
          "execution_count": 31
        }
      ]
    },
    {
      "cell_type": "code",
      "source": [
        "def fac(p):\n",
        "\n",
        "  if p == 0:\n",
        "    return 1\n",
        "  else:\n",
        "    return p * fac(p-1)\n",
        "n = int(input(\"Enter the number: \"))\n",
        "print(num, \"is\", fac(n))\n",
        "\n"
      ],
      "metadata": {
        "colab": {
          "base_uri": "https://localhost:8080/"
        },
        "id": "P6xbNPDh1t0T",
        "outputId": "d0583329-992e-42b0-e3cb-cf8d5262d98f"
      },
      "execution_count": null,
      "outputs": [
        {
          "output_type": "stream",
          "name": "stdout",
          "text": [
            "Enter the number: 6\n",
            "Factorial of 6 is 720\n"
          ]
        }
      ]
    },
    {
      "cell_type": "code",
      "source": [],
      "metadata": {
        "id": "OaJWnAcB5oy7"
      },
      "execution_count": null,
      "outputs": []
    }
  ]
}